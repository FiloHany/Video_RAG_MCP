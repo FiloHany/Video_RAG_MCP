{
 "cells": [
  {
   "cell_type": "code",
   "execution_count": 2,
   "id": "6198fd02",
   "metadata": {},
   "outputs": [
    {
     "data": {
      "text/plain": [
       "True"
      ]
     },
     "execution_count": 2,
     "metadata": {},
     "output_type": "execute_result"
    }
   ],
   "source": [
    "import os\n",
    "import time\n",
    "\n",
    "from dotenv import load_dotenv\n",
    "from ragie  import Ragie\n",
    "\n",
    "load_dotenv()"
   ]
  },
  {
   "cell_type": "code",
   "execution_count": 3,
   "id": "d0b9cf45",
   "metadata": {},
   "outputs": [],
   "source": [
    "ragie = Ragie(\n",
    "    auth=os.getenv('RAGIE_API_KEY')\n",
    ")"
   ]
  },
  {
   "cell_type": "code",
   "execution_count": 4,
   "id": "d5d25e1f",
   "metadata": {},
   "outputs": [],
   "source": [
    "response = ragie.documents.list()\n",
    "documents = response.result.documents\n",
    "\n",
    "for document in documents:\n",
    "    try:\n",
    "        ragie.documents.delete(\n",
    "            document_id=document.id\n",
    "        )\n",
    "        print(f\"Deleted document {document.id}\")\n",
    "    except Exception as e :\n",
    "        print(f\"Error deleting document {document.id} : {e}\")"
   ]
  },
  {
   "cell_type": "code",
   "execution_count": 5,
   "id": "a2cb97e7",
   "metadata": {},
   "outputs": [
    {
     "name": "stdout",
     "output_type": "stream",
     "text": [
      "status='partitioning' id='2e45bac0-967f-4e69-9573-69dfa2d37618' created_at=datetime.datetime(2025, 7, 31, 23, 48, 16, 662005, tzinfo=TzInfo(UTC)) updated_at=datetime.datetime(2025, 7, 31, 23, 48, 16, 710593, tzinfo=TzInfo(UTC)) name='messi-goals.mp4' metadata={} partition='default' chunk_count=None external_id=None page_count=None\n"
     ]
    }
   ],
   "source": [
    "current_dir = os.path.curdir\n",
    "file_path = os.path.join(current_dir, \"video/messi-goals.mp4\")\n",
    "result = ragie.documents.create(request={\n",
    "    \"file\": {\n",
    "        \"file_name\":\"messi-goals.mp4\",\n",
    "        \"content\": open(file_path, \"rb\"),\n",
    "    },\n",
    "    \"mode\": {\n",
    "        \"video\": \"audio_video\"\n",
    "    }\n",
    "})\n",
    "\n",
    "print(result)"
   ]
  },
  {
   "cell_type": "code",
   "execution_count": 6,
   "id": "697b9c9c",
   "metadata": {},
   "outputs": [
    {
     "name": "stdout",
     "output_type": "stream",
     "text": [
      "scored_chunks=[ScoredChunk(text='{\"video_description\": \"Here\\'s a detailed description of the video, focusing on the soccer plays:\\\\n\\\\n**Overall Impression:**\\\\n\\\\nThe video shows two significant moments from a soccer (football) match, likely a high-stakes game given the crowd and the intensity of the play. The first clip features a penalty kick. The second clip shows a close-up play near the goal, ending in a dramatic save.\\\\n\\\\n**Detailed Breakdown:**\\\\n\\\\n*   **Clip 1 (Penalty Kick):**\\\\n\\\\n    *   **Perspective:** The camera is positioned directly behind the goal, providing a clear view of the goalkeeper and the player taking the penalty.\\\\n    *   **Scene:** The stadium is packed with cheering fans, a palpable sense of tension in the air. Both teams are visible on the field. The score is 0-0 between Argentina and France.\\\\n    *   **Action:** The player approaches the ball, takes the shot, and scores the penalty. The goalkeeper dives to his left, but the ball is placed too well. The stadium erupts in celebration, with players and fans rejoicing. Argentina takes the lead: 1-0.\\\\n    *   **Additional elements:** There\\'s advertising visible around the field perimeter, including branding for crypto.com, FIFA, and Budweiser.\\\\n\\\\n*   **Clip 2 (Close-Up Goal Attempt):**\\\\n\\\\n    *   **Perspective:** The camera is positioned at the edge of the field, providing a wider view of the action.\\\\n    *   **Scene:** A dynamic play with both teams fighting for possession of the ball in front of the goal. The score is 2-2 between Argentina and France.\\\\n    *   **Action:** Argentina is attacking. A player takes a shot on the goal, it is saved by the French goalie. Argentina scores!\\\\n\\\\n**General Observations:**\\\\n\\\\n*   The video is high-quality, capturing the intensity of the game well.\\\\n*   The edits focus on critical moments, highlighting the drama of the match.\\\\n*   The crowd adds a significant emotional element.\\\\n*   It\\'s clearly a professionally shot and edited clip, likely intended for highlights or broadcasting.\", \"audio_transcript\": \"\"}', score=0.2, id='2e6873a5-50c9-48df-97c5-16d27fc252ba', index=7, document_id='2e45bac0-967f-4e69-9573-69dfa2d37618', document_name='messi-goals.mp4', document_metadata={}, links={'self': Link(href='https://api.ragie.ai/documents/2e45bac0-967f-4e69-9573-69dfa2d37618/chunks/2e6873a5-50c9-48df-97c5-16d27fc252ba', type='application/json'), 'self_text': Link(href='https://api.ragie.ai/documents/2e45bac0-967f-4e69-9573-69dfa2d37618/chunks/2e6873a5-50c9-48df-97c5-16d27fc252ba/content?media_type=text/plain-text', type='text/plain-text'), 'document': Link(href='https://api.ragie.ai/documents/2e45bac0-967f-4e69-9573-69dfa2d37618', type='application/json'), 'document_text': Link(href='https://api.ragie.ai/documents/2e45bac0-967f-4e69-9573-69dfa2d37618/content?media_type=text/plain-text', type='text/plain-text'), 'self_audio_stream': Link(href='https://api.ragie.ai/documents/2e45bac0-967f-4e69-9573-69dfa2d37618/chunks/2e6873a5-50c9-48df-97c5-16d27fc252ba/content?media_type=audio/mpeg', type='audio/mpeg'), 'self_audio_download': Link(href='https://api.ragie.ai/documents/2e45bac0-967f-4e69-9573-69dfa2d37618/chunks/2e6873a5-50c9-48df-97c5-16d27fc252ba/content?media_type=audio/mpeg&download=true', type='audio/mpeg'), 'document_audio_stream': Link(href='https://api.ragie.ai/documents/2e45bac0-967f-4e69-9573-69dfa2d37618/content?media_type=audio/mpeg', type='audio/mpeg'), 'document_audio_download': Link(href='https://api.ragie.ai/documents/2e45bac0-967f-4e69-9573-69dfa2d37618/content?media_type=audio/mpeg&download=true', type='audio/mpeg'), 'self_video_stream': Link(href='https://api.ragie.ai/documents/2e45bac0-967f-4e69-9573-69dfa2d37618/chunks/2e6873a5-50c9-48df-97c5-16d27fc252ba/content?media_type=video/mp4', type='video/mp4'), 'self_video_download': Link(href='https://api.ragie.ai/documents/2e45bac0-967f-4e69-9573-69dfa2d37618/chunks/2e6873a5-50c9-48df-97c5-16d27fc252ba/content?media_type=video/mp4&download=true', type='video/mp4'), 'document_video_stream': Link(href='https://api.ragie.ai/documents/2e45bac0-967f-4e69-9573-69dfa2d37618/content?media_type=video/mp4', type='video/mp4'), 'document_video_download': Link(href='https://api.ragie.ai/documents/2e45bac0-967f-4e69-9573-69dfa2d37618/content?media_type=video/mp4&download=true', type='video/mp4')}, metadata={'end_time': 120.0, 'start_time': 105.0}), ScoredChunk(text='{\"video_description\": \"Certainly! Here\\'s a detailed description of the video:\\\\n\\\\n**General Description:**\\\\n\\\\nThe video showcases Lionel Messi, a famous soccer player, celebrating a goal and then taking a penalty kick. The video appears to be of high quality and features shots from multiple angles. The audience in the background is energetic and enthusiastic.\\\\n\\\\n**Scene 1 (0:00-0:05):**\\\\n\\\\n*   Messi is seen celebrating a goal. He is wearing a light blue and white striped Argentina jersey with the number 10.\\\\n*   He has his arms outstretched, looking excited.\\\\n*   Two other players in the same jersey run up to celebrate with him.\\\\n*   The background is filled with a packed stadium of fans.\\\\n\\\\n**Scene 2 (0:05-0:15):**\\\\n\\\\n*   The scene shifts to a penalty kick situation.\\\\n*   Messi is shown standing in front of the ball, preparing to take the shot.\\\\n*   The goalie from the opposing team (Netherlands) is in the goal.\\\\n*   Messi kicks the ball with his left foot, sending it into the top corner of the net.\\\\n*   Close-up shots show the ball entering the net and the goalie diving to try and block the shot but missing.\\\\n*   The last shot shows Messi looking confident.\\\\n\\\\n**Overall Atmosphere:**\\\\n\\\\nThe video is filled with excitement, anticipation, and celebration. It captures the energy of a live soccer match, focusing on key moments with one of the sport\\'s most iconic players.\", \"audio_transcript\": \"\"}', score=0.16783216783216784, id='65c63224-fb94-4be7-96bb-e2f0ec98d998', index=5, document_id='2e45bac0-967f-4e69-9573-69dfa2d37618', document_name='messi-goals.mp4', document_metadata={}, links={'self': Link(href='https://api.ragie.ai/documents/2e45bac0-967f-4e69-9573-69dfa2d37618/chunks/65c63224-fb94-4be7-96bb-e2f0ec98d998', type='application/json'), 'self_text': Link(href='https://api.ragie.ai/documents/2e45bac0-967f-4e69-9573-69dfa2d37618/chunks/65c63224-fb94-4be7-96bb-e2f0ec98d998/content?media_type=text/plain-text', type='text/plain-text'), 'document': Link(href='https://api.ragie.ai/documents/2e45bac0-967f-4e69-9573-69dfa2d37618', type='application/json'), 'document_text': Link(href='https://api.ragie.ai/documents/2e45bac0-967f-4e69-9573-69dfa2d37618/content?media_type=text/plain-text', type='text/plain-text'), 'self_audio_stream': Link(href='https://api.ragie.ai/documents/2e45bac0-967f-4e69-9573-69dfa2d37618/chunks/65c63224-fb94-4be7-96bb-e2f0ec98d998/content?media_type=audio/mpeg', type='audio/mpeg'), 'self_audio_download': Link(href='https://api.ragie.ai/documents/2e45bac0-967f-4e69-9573-69dfa2d37618/chunks/65c63224-fb94-4be7-96bb-e2f0ec98d998/content?media_type=audio/mpeg&download=true', type='audio/mpeg'), 'document_audio_stream': Link(href='https://api.ragie.ai/documents/2e45bac0-967f-4e69-9573-69dfa2d37618/content?media_type=audio/mpeg', type='audio/mpeg'), 'document_audio_download': Link(href='https://api.ragie.ai/documents/2e45bac0-967f-4e69-9573-69dfa2d37618/content?media_type=audio/mpeg&download=true', type='audio/mpeg'), 'self_video_stream': Link(href='https://api.ragie.ai/documents/2e45bac0-967f-4e69-9573-69dfa2d37618/chunks/65c63224-fb94-4be7-96bb-e2f0ec98d998/content?media_type=video/mp4', type='video/mp4'), 'self_video_download': Link(href='https://api.ragie.ai/documents/2e45bac0-967f-4e69-9573-69dfa2d37618/chunks/65c63224-fb94-4be7-96bb-e2f0ec98d998/content?media_type=video/mp4&download=true', type='video/mp4'), 'document_video_stream': Link(href='https://api.ragie.ai/documents/2e45bac0-967f-4e69-9573-69dfa2d37618/content?media_type=video/mp4', type='video/mp4'), 'document_video_download': Link(href='https://api.ragie.ai/documents/2e45bac0-967f-4e69-9573-69dfa2d37618/content?media_type=video/mp4&download=true', type='video/mp4')}, metadata={'end_time': 90.0, 'start_time': 75.0}), ScoredChunk(text='{\"video_description\": \"Here is a detailed description of the video:\\\\n\\\\n**Visuals:**\\\\n\\\\n*   **Opening Scene:** The video opens with a live-action shot from a soccer match, likely a FIFA World Cup game, given the branding on the upper-right corner. The score shows \\\\\"ARG 2\\\\\" (Argentina) and \\\\\"FRA 2\\\\\" (France) with their respective country flags. The time is marked as \\\\\"107:55,\\\\\" indicating it\\'s in extra time. We see a close-up of a crucial moment near the goal, with players from both teams in the thick of the action. A player in a blue and white striped jersey (Argentina) has just scored. The stadium is packed with fans, mostly in white and light blue, the colors of the Argentinian flag.\\\\n*   **Goal Replay:** The shot then replays the goal from a slightly different angle, emphasizing the goalkeeper\\'s (in yellow) attempt to block the ball, and the Argentinian player\\'s successful strike.\\\\n*   **Transition:** The video seamlessly transitions to a blue screen with white text that reads, \\\\\"THE ACTION IS ONLY JUST KICKING OFF.\\\\\"\\\\n*   **Highlight Montage:** A rapid succession of video clips flashes across the screen:\\\\n    *   Lionel Messi, wearing an Argentina jersey, celebrating with what looks like a purple towel.\\\\n    *   Cristiano Ronaldo, in a black t-shirt, looking intensely into the camera.\\\\n    *   A monochrome image of someone with their arms raised triumphantly, superimposed with the text \\\\\"ONLY A\\\\\".\\\\n*   **FIFA Branding:** The FIFA logo (white text and circles) appears on the blue background.\\\\n*   **Final Text:** The video ends with white text on the blue background, stating, \\\\\"STREAMING THE FREE STREAMING PLATFORM.\\\\\"\\\\n\\\\n**Overall Impression:**\\\\n\\\\nThe video appears to be a promotional piece for a sports streaming platform, likely owned or affiliated with FIFA. It uses dramatic footage from a high-stakes soccer match, coupled with iconic images of star players like Messi and Ronaldo, to draw viewers in and promote the platform\\'s accessibility. The text reinforces the idea that the excitement is just beginning and that the platform is a free way to access it.\", \"audio_transcript\": \"\"}', score=0.16025641025641024, id='461da770-40d1-4068-96a5-91b933160609', index=8, document_id='2e45bac0-967f-4e69-9573-69dfa2d37618', document_name='messi-goals.mp4', document_metadata={}, links={'self': Link(href='https://api.ragie.ai/documents/2e45bac0-967f-4e69-9573-69dfa2d37618/chunks/461da770-40d1-4068-96a5-91b933160609', type='application/json'), 'self_text': Link(href='https://api.ragie.ai/documents/2e45bac0-967f-4e69-9573-69dfa2d37618/chunks/461da770-40d1-4068-96a5-91b933160609/content?media_type=text/plain-text', type='text/plain-text'), 'document': Link(href='https://api.ragie.ai/documents/2e45bac0-967f-4e69-9573-69dfa2d37618', type='application/json'), 'document_text': Link(href='https://api.ragie.ai/documents/2e45bac0-967f-4e69-9573-69dfa2d37618/content?media_type=text/plain-text', type='text/plain-text'), 'self_audio_stream': Link(href='https://api.ragie.ai/documents/2e45bac0-967f-4e69-9573-69dfa2d37618/chunks/461da770-40d1-4068-96a5-91b933160609/content?media_type=audio/mpeg', type='audio/mpeg'), 'self_audio_download': Link(href='https://api.ragie.ai/documents/2e45bac0-967f-4e69-9573-69dfa2d37618/chunks/461da770-40d1-4068-96a5-91b933160609/content?media_type=audio/mpeg&download=true', type='audio/mpeg'), 'document_audio_stream': Link(href='https://api.ragie.ai/documents/2e45bac0-967f-4e69-9573-69dfa2d37618/content?media_type=audio/mpeg', type='audio/mpeg'), 'document_audio_download': Link(href='https://api.ragie.ai/documents/2e45bac0-967f-4e69-9573-69dfa2d37618/content?media_type=audio/mpeg&download=true', type='audio/mpeg'), 'self_video_stream': Link(href='https://api.ragie.ai/documents/2e45bac0-967f-4e69-9573-69dfa2d37618/chunks/461da770-40d1-4068-96a5-91b933160609/content?media_type=video/mp4', type='video/mp4'), 'self_video_download': Link(href='https://api.ragie.ai/documents/2e45bac0-967f-4e69-9573-69dfa2d37618/chunks/461da770-40d1-4068-96a5-91b933160609/content?media_type=video/mp4&download=true', type='video/mp4'), 'document_video_stream': Link(href='https://api.ragie.ai/documents/2e45bac0-967f-4e69-9573-69dfa2d37618/content?media_type=video/mp4', type='video/mp4'), 'document_video_download': Link(href='https://api.ragie.ai/documents/2e45bac0-967f-4e69-9573-69dfa2d37618/content?media_type=video/mp4&download=true', type='video/mp4')}, metadata={'end_time': 135.0, 'start_time': 120.0}), ScoredChunk(text='{\"video_description\": \"Certainly! Here\\'s a detailed description of the video:\\\\n\\\\n**Scene:** Football/Soccer Match\\\\n\\\\n**Teams:** Argentina (ARG) vs. Mexico (MEX)\\\\n\\\\n**Score:** 1-0 in favor of Argentina\\\\n\\\\n**Key Players:** Lionel Messi (ARG)\\\\n\\\\n**Gameplay:**\\\\n\\\\n*   The video captures the moment when Lionel Messi scores a goal for Argentina.\\\\n*   The game is in progress in a crowded stadium with cheering fans.\\\\n*   Messi receives a pass near the edge of the penalty box, takes a touch, and then shoots the ball into the bottom left corner of the net.\\\\n*   The Mexican goalkeeper dives but can\\'t reach the ball.\\\\n*   The goal is followed by wild celebrations among the Argentine players, with Messi being mobbed by his teammates.\\\\n\\\\n**Camera Work:**\\\\n\\\\n*   The camera provides a wide shot of the field, showing the positions of the players and the overall view of the stadium.\\\\n*   After the goal, the camera zooms in to focus on Messi\\'s celebration.\\\\n\\\\n**Atmosphere:**\\\\n\\\\n*   The stadium is filled with the sounds of cheering and excitement as the crowd erupts in joy at the goal.\\\\n*   The Argentine players display intense emotion and relief in their celebrations.\\\\n\\\\n**General Notes:**\\\\n\\\\n*   The game clock displays the time, indicating that the goal occurs in the second half (63:33).\\\\n*   The FIFA logo is visible, suggesting that this is a World Cup match.\\\\n\\\\nIn summary, the video is a highlight of an Argentina vs. Mexico World Cup match, capturing the electrifying moment when Lionel Messi scores, giving Argentina the lead and igniting euphoric celebrations.\", \"audio_transcript\": \"\"}', score=0.15476190476190477, id='70319207-230f-467c-b6f3-015df90da31c', index=1, document_id='2e45bac0-967f-4e69-9573-69dfa2d37618', document_name='messi-goals.mp4', document_metadata={}, links={'self': Link(href='https://api.ragie.ai/documents/2e45bac0-967f-4e69-9573-69dfa2d37618/chunks/70319207-230f-467c-b6f3-015df90da31c', type='application/json'), 'self_text': Link(href='https://api.ragie.ai/documents/2e45bac0-967f-4e69-9573-69dfa2d37618/chunks/70319207-230f-467c-b6f3-015df90da31c/content?media_type=text/plain-text', type='text/plain-text'), 'document': Link(href='https://api.ragie.ai/documents/2e45bac0-967f-4e69-9573-69dfa2d37618', type='application/json'), 'document_text': Link(href='https://api.ragie.ai/documents/2e45bac0-967f-4e69-9573-69dfa2d37618/content?media_type=text/plain-text', type='text/plain-text'), 'self_audio_stream': Link(href='https://api.ragie.ai/documents/2e45bac0-967f-4e69-9573-69dfa2d37618/chunks/70319207-230f-467c-b6f3-015df90da31c/content?media_type=audio/mpeg', type='audio/mpeg'), 'self_audio_download': Link(href='https://api.ragie.ai/documents/2e45bac0-967f-4e69-9573-69dfa2d37618/chunks/70319207-230f-467c-b6f3-015df90da31c/content?media_type=audio/mpeg&download=true', type='audio/mpeg'), 'document_audio_stream': Link(href='https://api.ragie.ai/documents/2e45bac0-967f-4e69-9573-69dfa2d37618/content?media_type=audio/mpeg', type='audio/mpeg'), 'document_audio_download': Link(href='https://api.ragie.ai/documents/2e45bac0-967f-4e69-9573-69dfa2d37618/content?media_type=audio/mpeg&download=true', type='audio/mpeg'), 'self_video_stream': Link(href='https://api.ragie.ai/documents/2e45bac0-967f-4e69-9573-69dfa2d37618/chunks/70319207-230f-467c-b6f3-015df90da31c/content?media_type=video/mp4', type='video/mp4'), 'self_video_download': Link(href='https://api.ragie.ai/documents/2e45bac0-967f-4e69-9573-69dfa2d37618/chunks/70319207-230f-467c-b6f3-015df90da31c/content?media_type=video/mp4&download=true', type='video/mp4'), 'document_video_stream': Link(href='https://api.ragie.ai/documents/2e45bac0-967f-4e69-9573-69dfa2d37618/content?media_type=video/mp4', type='video/mp4'), 'document_video_download': Link(href='https://api.ragie.ai/documents/2e45bac0-967f-4e69-9573-69dfa2d37618/content?media_type=video/mp4&download=true', type='video/mp4')}, metadata={'end_time': 30.0, 'start_time': 15.0}), ScoredChunk(text='{\"video_description\": \"Okay, here\\\\u2019s a detailed description of the video:\\\\n\\\\n**General Description**\\\\n\\\\nThe video captures a moment from a FIFA World Cup football (soccer) match. It features Lionel Messi, the renowned Argentinian player, scoring a penalty kick. The video includes close-ups of Messi, scenes of the game in progress, and celebrations following the goal.\\\\n\\\\n**Visual Details**\\\\n\\\\n*   **0:00-0:01:** Close-up of Messi in his Argentina jersey, with a frustrated expression. He\\'s surrounded by the crowd.\\\\n*   **0:02-0:04:** A shot of Messi standing next to Luka Modri\\\\u0107, a Croatian player, the score is 0-0.\\\\n*   **0:05-0:07:** The pivotal moment of Messi taking the penalty kick. He strikes the ball powerfully, and the goalkeeper is unable to stop it. The ball enters the net.\\\\n*   **0:08-0:12:** Messi reacts immediately after scoring, celebrating with arms outstretched. His teammates rush to congratulate him.\\\\n*   **0:13-0:14:** The same penalty kick is shown from another angle.\\\\n*   **General Visuals:** The video shows packed stadium, filled with fans. Bright stadium lighting illuminates the green pitch. The footage is crisp and clear, offering a detailed view of the action.\\\\n\\\\n**Text and Graphics**\\\\n\\\\n*   Throughout the video, there\\\\u2019s a \\\\u201cFIFA\\\\u201d logo in the top right corner.\\\\n*   A score graphic displays \\\\u201cARG 1 CRO 0\\\\u201d indicating Argentina is leading Croatia.\\\\n*   \\\\\"NU Nubank\\\\\" and \\\\\"Claro-Claro-Claro\\\\\" signs can be seen on the edges of the field.\\\\n\\\\n**Overall Impression**\\\\n\\\\nThe video is a highlight reel showcasing a crucial moment from a World Cup match: Messi scoring a penalty kick. The visuals emphasize his role and the excitement surrounding the goal, capturing the atmosphere of the event.\", \"audio_transcript\": \"\"}', score=0.1380952380952381, id='61104f86-4b1f-418b-9750-49f8f8eccbca', index=6, document_id='2e45bac0-967f-4e69-9573-69dfa2d37618', document_name='messi-goals.mp4', document_metadata={}, links={'self': Link(href='https://api.ragie.ai/documents/2e45bac0-967f-4e69-9573-69dfa2d37618/chunks/61104f86-4b1f-418b-9750-49f8f8eccbca', type='application/json'), 'self_text': Link(href='https://api.ragie.ai/documents/2e45bac0-967f-4e69-9573-69dfa2d37618/chunks/61104f86-4b1f-418b-9750-49f8f8eccbca/content?media_type=text/plain-text', type='text/plain-text'), 'document': Link(href='https://api.ragie.ai/documents/2e45bac0-967f-4e69-9573-69dfa2d37618', type='application/json'), 'document_text': Link(href='https://api.ragie.ai/documents/2e45bac0-967f-4e69-9573-69dfa2d37618/content?media_type=text/plain-text', type='text/plain-text'), 'self_audio_stream': Link(href='https://api.ragie.ai/documents/2e45bac0-967f-4e69-9573-69dfa2d37618/chunks/61104f86-4b1f-418b-9750-49f8f8eccbca/content?media_type=audio/mpeg', type='audio/mpeg'), 'self_audio_download': Link(href='https://api.ragie.ai/documents/2e45bac0-967f-4e69-9573-69dfa2d37618/chunks/61104f86-4b1f-418b-9750-49f8f8eccbca/content?media_type=audio/mpeg&download=true', type='audio/mpeg'), 'document_audio_stream': Link(href='https://api.ragie.ai/documents/2e45bac0-967f-4e69-9573-69dfa2d37618/content?media_type=audio/mpeg', type='audio/mpeg'), 'document_audio_download': Link(href='https://api.ragie.ai/documents/2e45bac0-967f-4e69-9573-69dfa2d37618/content?media_type=audio/mpeg&download=true', type='audio/mpeg'), 'self_video_stream': Link(href='https://api.ragie.ai/documents/2e45bac0-967f-4e69-9573-69dfa2d37618/chunks/61104f86-4b1f-418b-9750-49f8f8eccbca/content?media_type=video/mp4', type='video/mp4'), 'self_video_download': Link(href='https://api.ragie.ai/documents/2e45bac0-967f-4e69-9573-69dfa2d37618/chunks/61104f86-4b1f-418b-9750-49f8f8eccbca/content?media_type=video/mp4&download=true', type='video/mp4'), 'document_video_stream': Link(href='https://api.ragie.ai/documents/2e45bac0-967f-4e69-9573-69dfa2d37618/content?media_type=video/mp4', type='video/mp4'), 'document_video_download': Link(href='https://api.ragie.ai/documents/2e45bac0-967f-4e69-9573-69dfa2d37618/content?media_type=video/mp4&download=true', type='video/mp4')}, metadata={'end_time': 105.0, 'start_time': 90.0}), ScoredChunk(text='{\"video_description\": \"Here is a detailed description of the video:\\\\n\\\\n**Content**: The video shows a goal scored by Lionel Messi for Argentina against Australia in a football (soccer) match. It\\'s a highlight clip focusing on the goal and subsequent celebrations.\\\\n\\\\n**Visuals**:\\\\n\\\\n*   **Camera Angles**: The video uses a mix of camera angles:\\\\n    *   **Wide Shot**: Initially shows the overall position of players on the field leading up to the goal, including the goalkeeper.\\\\n    *   **Close-Up**: Switches to a tight shot of Messi as he receives the ball in the box and scores.\\\\n    *   **Celebration Shot**: Focuses on Messi\\'s reaction and teammates joining the celebration.\\\\n    *   **Behind the Goal**: A shot shows the ball entering the net from the perspective behind the goal and a replay shows how Messi scored.\\\\n*   **Color**: The colors are bright and vibrant, characteristic of a modern sports broadcast. Argentina wears their traditional blue and white striped jerseys, while Australia wears yellow and green.\\\\n*   **Stadium**: The background shows a crowded stadium with fans in colorful attire. There are advertising banners in the background as well.\\\\n\\\\n**Gameplay**:\\\\n\\\\n*   The score is 0-0 when the video starts.\\\\n*   Messi receives the ball inside the Australian penalty area.\\\\n*   He takes a touch and shoots a low shot past the goalkeeper into the net.\\\\n*   The score changes to Argentina 1 - Australia 0.\\\\n\\\\n**Celebrations**:\\\\n\\\\n*   Messi raises his arms in celebration.\\\\n*   His teammates rush over to congratulate and embrace him.\\\\n*   There\\'s a pile-on of players hugging each other in jubilation.\\\\n\\\\n**Overlays**:\\\\n\\\\n*   The score and time of the match are displayed in the top left corner of the screen (\\\\\"34:34 ARG 0-0 AUS\\\\\"). The time changes as the clip progresses.\\\\n*   The FIFA logo is visible in the top right corner.\\\\n\\\\n**Overall Impression**: The video is a short highlight capturing a significant moment in a football match \\\\u2013 a goal scored by Lionel Messi. It effectively conveys the excitement of the game and the joy of the Argentina team.\", \"audio_transcript\": \"\"}', score=0.1213235294117647, id='d7882e65-58fc-43a5-be68-f8d6ec193770', index=4, document_id='2e45bac0-967f-4e69-9573-69dfa2d37618', document_name='messi-goals.mp4', document_metadata={}, links={'self': Link(href='https://api.ragie.ai/documents/2e45bac0-967f-4e69-9573-69dfa2d37618/chunks/d7882e65-58fc-43a5-be68-f8d6ec193770', type='application/json'), 'self_text': Link(href='https://api.ragie.ai/documents/2e45bac0-967f-4e69-9573-69dfa2d37618/chunks/d7882e65-58fc-43a5-be68-f8d6ec193770/content?media_type=text/plain-text', type='text/plain-text'), 'document': Link(href='https://api.ragie.ai/documents/2e45bac0-967f-4e69-9573-69dfa2d37618', type='application/json'), 'document_text': Link(href='https://api.ragie.ai/documents/2e45bac0-967f-4e69-9573-69dfa2d37618/content?media_type=text/plain-text', type='text/plain-text'), 'self_audio_stream': Link(href='https://api.ragie.ai/documents/2e45bac0-967f-4e69-9573-69dfa2d37618/chunks/d7882e65-58fc-43a5-be68-f8d6ec193770/content?media_type=audio/mpeg', type='audio/mpeg'), 'self_audio_download': Link(href='https://api.ragie.ai/documents/2e45bac0-967f-4e69-9573-69dfa2d37618/chunks/d7882e65-58fc-43a5-be68-f8d6ec193770/content?media_type=audio/mpeg&download=true', type='audio/mpeg'), 'document_audio_stream': Link(href='https://api.ragie.ai/documents/2e45bac0-967f-4e69-9573-69dfa2d37618/content?media_type=audio/mpeg', type='audio/mpeg'), 'document_audio_download': Link(href='https://api.ragie.ai/documents/2e45bac0-967f-4e69-9573-69dfa2d37618/content?media_type=audio/mpeg&download=true', type='audio/mpeg'), 'self_video_stream': Link(href='https://api.ragie.ai/documents/2e45bac0-967f-4e69-9573-69dfa2d37618/chunks/d7882e65-58fc-43a5-be68-f8d6ec193770/content?media_type=video/mp4', type='video/mp4'), 'self_video_download': Link(href='https://api.ragie.ai/documents/2e45bac0-967f-4e69-9573-69dfa2d37618/chunks/d7882e65-58fc-43a5-be68-f8d6ec193770/content?media_type=video/mp4&download=true', type='video/mp4'), 'document_video_stream': Link(href='https://api.ragie.ai/documents/2e45bac0-967f-4e69-9573-69dfa2d37618/content?media_type=video/mp4', type='video/mp4'), 'document_video_download': Link(href='https://api.ragie.ai/documents/2e45bac0-967f-4e69-9573-69dfa2d37618/content?media_type=video/mp4&download=true', type='video/mp4')}, metadata={'end_time': 75.0, 'start_time': 60.0}), ScoredChunk(text='{\"video_description\": \"Here is a detailed description of the video:\\\\n\\\\nThe video captures a moment of high emotion in a soccer game, specifically showing Lionel Messi scoring a goal from a penalty shot.\\\\n\\\\nThe video opens with a close-up shot of Messi, looking determined and focused. He\\'s wearing the Argentina jersey with the iconic blue and white stripes. The angle shows his short dark hair and beard.\\\\n\\\\nThe camera then cuts to a wider view of the field, showcasing a sea of spectators in the stands. The crowd is predominantly white and green, with Saudi Arabian fans clearly visible. The view includes a soccer field in pristine condition, lined with advertisements. \\\\n\\\\nThe penalty kick happens, Messi approaches the ball and kicks it past the Saudi Arabian goalkeeper, who dives in an attempt to block it. The stadium erupts in cheers. \\\\n\\\\nThe video cuts to Messi running toward his teammates, all wearing the Argentina jersey, and they embrace him in a celebratory hug. The camera pans around to capture the excitement of the moment, before providing a slow-motion shot of the goal from behind the net.\\\\n\\\\nThe focus remains on the field. The slow-motion angle highlights the goalkeeper\\'s failed attempt to stop the shot. Messi is still in focus, kicking the ball towards the goal. The video concludes, emphasizing the excitement and triumph of the moment.\", \"audio_transcript\": \"\"}', score=0.1213235294117647, id='2e59208d-5266-44fb-888e-8a5731a58d05', index=0, document_id='2e45bac0-967f-4e69-9573-69dfa2d37618', document_name='messi-goals.mp4', document_metadata={}, links={'self': Link(href='https://api.ragie.ai/documents/2e45bac0-967f-4e69-9573-69dfa2d37618/chunks/2e59208d-5266-44fb-888e-8a5731a58d05', type='application/json'), 'self_text': Link(href='https://api.ragie.ai/documents/2e45bac0-967f-4e69-9573-69dfa2d37618/chunks/2e59208d-5266-44fb-888e-8a5731a58d05/content?media_type=text/plain-text', type='text/plain-text'), 'document': Link(href='https://api.ragie.ai/documents/2e45bac0-967f-4e69-9573-69dfa2d37618', type='application/json'), 'document_text': Link(href='https://api.ragie.ai/documents/2e45bac0-967f-4e69-9573-69dfa2d37618/content?media_type=text/plain-text', type='text/plain-text'), 'self_audio_stream': Link(href='https://api.ragie.ai/documents/2e45bac0-967f-4e69-9573-69dfa2d37618/chunks/2e59208d-5266-44fb-888e-8a5731a58d05/content?media_type=audio/mpeg', type='audio/mpeg'), 'self_audio_download': Link(href='https://api.ragie.ai/documents/2e45bac0-967f-4e69-9573-69dfa2d37618/chunks/2e59208d-5266-44fb-888e-8a5731a58d05/content?media_type=audio/mpeg&download=true', type='audio/mpeg'), 'document_audio_stream': Link(href='https://api.ragie.ai/documents/2e45bac0-967f-4e69-9573-69dfa2d37618/content?media_type=audio/mpeg', type='audio/mpeg'), 'document_audio_download': Link(href='https://api.ragie.ai/documents/2e45bac0-967f-4e69-9573-69dfa2d37618/content?media_type=audio/mpeg&download=true', type='audio/mpeg'), 'self_video_stream': Link(href='https://api.ragie.ai/documents/2e45bac0-967f-4e69-9573-69dfa2d37618/chunks/2e59208d-5266-44fb-888e-8a5731a58d05/content?media_type=video/mp4', type='video/mp4'), 'self_video_download': Link(href='https://api.ragie.ai/documents/2e45bac0-967f-4e69-9573-69dfa2d37618/chunks/2e59208d-5266-44fb-888e-8a5731a58d05/content?media_type=video/mp4&download=true', type='video/mp4'), 'document_video_stream': Link(href='https://api.ragie.ai/documents/2e45bac0-967f-4e69-9573-69dfa2d37618/content?media_type=video/mp4', type='video/mp4'), 'document_video_download': Link(href='https://api.ragie.ai/documents/2e45bac0-967f-4e69-9573-69dfa2d37618/content?media_type=video/mp4&download=true', type='video/mp4')}, metadata={'end_time': 15.0, 'start_time': 0.0}), ScoredChunk(text='{\"video_description\": \"Okay, here\\'s a description of the video you provided:\\\\n\\\\n**First Scene (0:00-0:10):**\\\\n\\\\n*   **Setting:** The video is taken during a football (soccer) match, specifically the FIFA World Cup. We see a large crowd in the background.\\\\n*   **Players:** Lionel Messi, wearing the Argentina jersey with the number 10, is the main focus. He is surrounded by players from the opposing team, Mexico.\\\\n*   **Action:**\\\\n    *   The clip starts with Messi receiving the ball and dribbling between two Mexican players, using quick footwork.\\\\n    *   A Mexican player attempts to tackle Messi, sliding in close.\\\\n    *   Messi manages to keep control of the ball and the clip jumps to a close-up shot of Messi shouting in celebration with a wide open mouth, presumably after scoring a goal.\\\\n\\\\n**Second Scene (0:11-0:15):**\\\\n\\\\n*   **Setting:** This scene is also from a football (soccer) match, specifically Argentina vs Australia. The match is tied with 0 goals each.\\\\n*   **Players:** Argentine players in white and blue striped jerseys and Australian players in yellow jerseys are battling for control of the ball.\\\\n*   **Action:**\\\\n    *   The video opens with Argentine players trying to pass the ball to each other from near the left corner.\\\\n    *   An Argentine player wearing the number 20 passes the ball to a teammate to his right.\\\\n    *   The Argentine player tries to shoot the ball into the goal but is intercepted by an Australian player wearing number 23.\\\\n    *   An Australian player tries to kick the ball away from the goal.\\\\n    *   An Argentine player kicks the ball near the center of the field away from the goal.\\\\n\\\\n**Overall Impression:**\\\\n\\\\nThe video shows some highlights from a football match with a focus on Lionel Messi and the intensity of the games, including celebrations and moments of key action.\", \"audio_transcript\": \"\"}', score=0.09090909090909091, id='0fb45610-2104-4457-8522-6b1d927a3286', index=3, document_id='2e45bac0-967f-4e69-9573-69dfa2d37618', document_name='messi-goals.mp4', document_metadata={}, links={'self': Link(href='https://api.ragie.ai/documents/2e45bac0-967f-4e69-9573-69dfa2d37618/chunks/0fb45610-2104-4457-8522-6b1d927a3286', type='application/json'), 'self_text': Link(href='https://api.ragie.ai/documents/2e45bac0-967f-4e69-9573-69dfa2d37618/chunks/0fb45610-2104-4457-8522-6b1d927a3286/content?media_type=text/plain-text', type='text/plain-text'), 'document': Link(href='https://api.ragie.ai/documents/2e45bac0-967f-4e69-9573-69dfa2d37618', type='application/json'), 'document_text': Link(href='https://api.ragie.ai/documents/2e45bac0-967f-4e69-9573-69dfa2d37618/content?media_type=text/plain-text', type='text/plain-text'), 'self_audio_stream': Link(href='https://api.ragie.ai/documents/2e45bac0-967f-4e69-9573-69dfa2d37618/chunks/0fb45610-2104-4457-8522-6b1d927a3286/content?media_type=audio/mpeg', type='audio/mpeg'), 'self_audio_download': Link(href='https://api.ragie.ai/documents/2e45bac0-967f-4e69-9573-69dfa2d37618/chunks/0fb45610-2104-4457-8522-6b1d927a3286/content?media_type=audio/mpeg&download=true', type='audio/mpeg'), 'document_audio_stream': Link(href='https://api.ragie.ai/documents/2e45bac0-967f-4e69-9573-69dfa2d37618/content?media_type=audio/mpeg', type='audio/mpeg'), 'document_audio_download': Link(href='https://api.ragie.ai/documents/2e45bac0-967f-4e69-9573-69dfa2d37618/content?media_type=audio/mpeg&download=true', type='audio/mpeg'), 'self_video_stream': Link(href='https://api.ragie.ai/documents/2e45bac0-967f-4e69-9573-69dfa2d37618/chunks/0fb45610-2104-4457-8522-6b1d927a3286/content?media_type=video/mp4', type='video/mp4'), 'self_video_download': Link(href='https://api.ragie.ai/documents/2e45bac0-967f-4e69-9573-69dfa2d37618/chunks/0fb45610-2104-4457-8522-6b1d927a3286/content?media_type=video/mp4&download=true', type='video/mp4'), 'document_video_stream': Link(href='https://api.ragie.ai/documents/2e45bac0-967f-4e69-9573-69dfa2d37618/content?media_type=video/mp4', type='video/mp4'), 'document_video_download': Link(href='https://api.ragie.ai/documents/2e45bac0-967f-4e69-9573-69dfa2d37618/content?media_type=video/mp4&download=true', type='video/mp4')}, metadata={'end_time': 60.0, 'start_time': 45.0})]\n"
     ]
    }
   ],
   "source": [
    "response = ragie.retrievals.retrieve(request={\n",
    "    \"query\": \"Give detailed description of the video wit timestamp of the events\"\n",
    "})\n",
    "\n",
    "print(response)"
   ]
  },
  {
   "cell_type": "code",
   "execution_count": 7,
   "id": "ee5267e7",
   "metadata": {},
   "outputs": [
    {
     "name": "stdout",
     "output_type": "stream",
     "text": [
      "{\"video_description\": \"Here's a detailed description of the video, focusing on the soccer plays:\\n\\n**Overall Impression:**\\n\\nThe video shows two significant moments from a soccer (football) match, likely a high-stakes game given the crowd and the intensity of the play. The first clip features a penalty kick. The second clip shows a close-up play near the goal, ending in a dramatic save.\\n\\n**Detailed Breakdown:**\\n\\n*   **Clip 1 (Penalty Kick):**\\n\\n    *   **Perspective:** The camera is positioned directly behind the goal, providing a clear view of the goalkeeper and the player taking the penalty.\\n    *   **Scene:** The stadium is packed with cheering fans, a palpable sense of tension in the air. Both teams are visible on the field. The score is 0-0 between Argentina and France.\\n    *   **Action:** The player approaches the ball, takes the shot, and scores the penalty. The goalkeeper dives to his left, but the ball is placed too well. The stadium erupts in celebration, with players and fans rejoicing. Argentina takes the lead: 1-0.\\n    *   **Additional elements:** There's advertising visible around the field perimeter, including branding for crypto.com, FIFA, and Budweiser.\\n\\n*   **Clip 2 (Close-Up Goal Attempt):**\\n\\n    *   **Perspective:** The camera is positioned at the edge of the field, providing a wider view of the action.\\n    *   **Scene:** A dynamic play with both teams fighting for possession of the ball in front of the goal. The score is 2-2 between Argentina and France.\\n    *   **Action:** Argentina is attacking. A player takes a shot on the goal, it is saved by the French goalie. Argentina scores!\\n\\n**General Observations:**\\n\\n*   The video is high-quality, capturing the intensity of the game well.\\n*   The edits focus on critical moments, highlighting the drama of the match.\\n*   The crowd adds a significant emotional element.\\n*   It's clearly a professionally shot and edited clip, likely intended for highlights or broadcasting.\", \"audio_transcript\": \"\"}\n",
      "####################################################################################################\n",
      "{\"video_description\": \"Certainly! Here's a detailed description of the video:\\n\\n**General Description:**\\n\\nThe video showcases Lionel Messi, a famous soccer player, celebrating a goal and then taking a penalty kick. The video appears to be of high quality and features shots from multiple angles. The audience in the background is energetic and enthusiastic.\\n\\n**Scene 1 (0:00-0:05):**\\n\\n*   Messi is seen celebrating a goal. He is wearing a light blue and white striped Argentina jersey with the number 10.\\n*   He has his arms outstretched, looking excited.\\n*   Two other players in the same jersey run up to celebrate with him.\\n*   The background is filled with a packed stadium of fans.\\n\\n**Scene 2 (0:05-0:15):**\\n\\n*   The scene shifts to a penalty kick situation.\\n*   Messi is shown standing in front of the ball, preparing to take the shot.\\n*   The goalie from the opposing team (Netherlands) is in the goal.\\n*   Messi kicks the ball with his left foot, sending it into the top corner of the net.\\n*   Close-up shots show the ball entering the net and the goalie diving to try and block the shot but missing.\\n*   The last shot shows Messi looking confident.\\n\\n**Overall Atmosphere:**\\n\\nThe video is filled with excitement, anticipation, and celebration. It captures the energy of a live soccer match, focusing on key moments with one of the sport's most iconic players.\", \"audio_transcript\": \"\"}\n",
      "####################################################################################################\n",
      "{\"video_description\": \"Here is a detailed description of the video:\\n\\n**Visuals:**\\n\\n*   **Opening Scene:** The video opens with a live-action shot from a soccer match, likely a FIFA World Cup game, given the branding on the upper-right corner. The score shows \\\"ARG 2\\\" (Argentina) and \\\"FRA 2\\\" (France) with their respective country flags. The time is marked as \\\"107:55,\\\" indicating it's in extra time. We see a close-up of a crucial moment near the goal, with players from both teams in the thick of the action. A player in a blue and white striped jersey (Argentina) has just scored. The stadium is packed with fans, mostly in white and light blue, the colors of the Argentinian flag.\\n*   **Goal Replay:** The shot then replays the goal from a slightly different angle, emphasizing the goalkeeper's (in yellow) attempt to block the ball, and the Argentinian player's successful strike.\\n*   **Transition:** The video seamlessly transitions to a blue screen with white text that reads, \\\"THE ACTION IS ONLY JUST KICKING OFF.\\\"\\n*   **Highlight Montage:** A rapid succession of video clips flashes across the screen:\\n    *   Lionel Messi, wearing an Argentina jersey, celebrating with what looks like a purple towel.\\n    *   Cristiano Ronaldo, in a black t-shirt, looking intensely into the camera.\\n    *   A monochrome image of someone with their arms raised triumphantly, superimposed with the text \\\"ONLY A\\\".\\n*   **FIFA Branding:** The FIFA logo (white text and circles) appears on the blue background.\\n*   **Final Text:** The video ends with white text on the blue background, stating, \\\"STREAMING THE FREE STREAMING PLATFORM.\\\"\\n\\n**Overall Impression:**\\n\\nThe video appears to be a promotional piece for a sports streaming platform, likely owned or affiliated with FIFA. It uses dramatic footage from a high-stakes soccer match, coupled with iconic images of star players like Messi and Ronaldo, to draw viewers in and promote the platform's accessibility. The text reinforces the idea that the excitement is just beginning and that the platform is a free way to access it.\", \"audio_transcript\": \"\"}\n",
      "####################################################################################################\n",
      "{\"video_description\": \"Certainly! Here's a detailed description of the video:\\n\\n**Scene:** Football/Soccer Match\\n\\n**Teams:** Argentina (ARG) vs. Mexico (MEX)\\n\\n**Score:** 1-0 in favor of Argentina\\n\\n**Key Players:** Lionel Messi (ARG)\\n\\n**Gameplay:**\\n\\n*   The video captures the moment when Lionel Messi scores a goal for Argentina.\\n*   The game is in progress in a crowded stadium with cheering fans.\\n*   Messi receives a pass near the edge of the penalty box, takes a touch, and then shoots the ball into the bottom left corner of the net.\\n*   The Mexican goalkeeper dives but can't reach the ball.\\n*   The goal is followed by wild celebrations among the Argentine players, with Messi being mobbed by his teammates.\\n\\n**Camera Work:**\\n\\n*   The camera provides a wide shot of the field, showing the positions of the players and the overall view of the stadium.\\n*   After the goal, the camera zooms in to focus on Messi's celebration.\\n\\n**Atmosphere:**\\n\\n*   The stadium is filled with the sounds of cheering and excitement as the crowd erupts in joy at the goal.\\n*   The Argentine players display intense emotion and relief in their celebrations.\\n\\n**General Notes:**\\n\\n*   The game clock displays the time, indicating that the goal occurs in the second half (63:33).\\n*   The FIFA logo is visible, suggesting that this is a World Cup match.\\n\\nIn summary, the video is a highlight of an Argentina vs. Mexico World Cup match, capturing the electrifying moment when Lionel Messi scores, giving Argentina the lead and igniting euphoric celebrations.\", \"audio_transcript\": \"\"}\n",
      "####################################################################################################\n",
      "{\"video_description\": \"Okay, here\\u2019s a detailed description of the video:\\n\\n**General Description**\\n\\nThe video captures a moment from a FIFA World Cup football (soccer) match. It features Lionel Messi, the renowned Argentinian player, scoring a penalty kick. The video includes close-ups of Messi, scenes of the game in progress, and celebrations following the goal.\\n\\n**Visual Details**\\n\\n*   **0:00-0:01:** Close-up of Messi in his Argentina jersey, with a frustrated expression. He's surrounded by the crowd.\\n*   **0:02-0:04:** A shot of Messi standing next to Luka Modri\\u0107, a Croatian player, the score is 0-0.\\n*   **0:05-0:07:** The pivotal moment of Messi taking the penalty kick. He strikes the ball powerfully, and the goalkeeper is unable to stop it. The ball enters the net.\\n*   **0:08-0:12:** Messi reacts immediately after scoring, celebrating with arms outstretched. His teammates rush to congratulate him.\\n*   **0:13-0:14:** The same penalty kick is shown from another angle.\\n*   **General Visuals:** The video shows packed stadium, filled with fans. Bright stadium lighting illuminates the green pitch. The footage is crisp and clear, offering a detailed view of the action.\\n\\n**Text and Graphics**\\n\\n*   Throughout the video, there\\u2019s a \\u201cFIFA\\u201d logo in the top right corner.\\n*   A score graphic displays \\u201cARG 1 CRO 0\\u201d indicating Argentina is leading Croatia.\\n*   \\\"NU Nubank\\\" and \\\"Claro-Claro-Claro\\\" signs can be seen on the edges of the field.\\n\\n**Overall Impression**\\n\\nThe video is a highlight reel showcasing a crucial moment from a World Cup match: Messi scoring a penalty kick. The visuals emphasize his role and the excitement surrounding the goal, capturing the atmosphere of the event.\", \"audio_transcript\": \"\"}\n",
      "####################################################################################################\n",
      "{\"video_description\": \"Here is a detailed description of the video:\\n\\n**Content**: The video shows a goal scored by Lionel Messi for Argentina against Australia in a football (soccer) match. It's a highlight clip focusing on the goal and subsequent celebrations.\\n\\n**Visuals**:\\n\\n*   **Camera Angles**: The video uses a mix of camera angles:\\n    *   **Wide Shot**: Initially shows the overall position of players on the field leading up to the goal, including the goalkeeper.\\n    *   **Close-Up**: Switches to a tight shot of Messi as he receives the ball in the box and scores.\\n    *   **Celebration Shot**: Focuses on Messi's reaction and teammates joining the celebration.\\n    *   **Behind the Goal**: A shot shows the ball entering the net from the perspective behind the goal and a replay shows how Messi scored.\\n*   **Color**: The colors are bright and vibrant, characteristic of a modern sports broadcast. Argentina wears their traditional blue and white striped jerseys, while Australia wears yellow and green.\\n*   **Stadium**: The background shows a crowded stadium with fans in colorful attire. There are advertising banners in the background as well.\\n\\n**Gameplay**:\\n\\n*   The score is 0-0 when the video starts.\\n*   Messi receives the ball inside the Australian penalty area.\\n*   He takes a touch and shoots a low shot past the goalkeeper into the net.\\n*   The score changes to Argentina 1 - Australia 0.\\n\\n**Celebrations**:\\n\\n*   Messi raises his arms in celebration.\\n*   His teammates rush over to congratulate and embrace him.\\n*   There's a pile-on of players hugging each other in jubilation.\\n\\n**Overlays**:\\n\\n*   The score and time of the match are displayed in the top left corner of the screen (\\\"34:34 ARG 0-0 AUS\\\"). The time changes as the clip progresses.\\n*   The FIFA logo is visible in the top right corner.\\n\\n**Overall Impression**: The video is a short highlight capturing a significant moment in a football match \\u2013 a goal scored by Lionel Messi. It effectively conveys the excitement of the game and the joy of the Argentina team.\", \"audio_transcript\": \"\"}\n",
      "####################################################################################################\n",
      "{\"video_description\": \"Here is a detailed description of the video:\\n\\nThe video captures a moment of high emotion in a soccer game, specifically showing Lionel Messi scoring a goal from a penalty shot.\\n\\nThe video opens with a close-up shot of Messi, looking determined and focused. He's wearing the Argentina jersey with the iconic blue and white stripes. The angle shows his short dark hair and beard.\\n\\nThe camera then cuts to a wider view of the field, showcasing a sea of spectators in the stands. The crowd is predominantly white and green, with Saudi Arabian fans clearly visible. The view includes a soccer field in pristine condition, lined with advertisements. \\n\\nThe penalty kick happens, Messi approaches the ball and kicks it past the Saudi Arabian goalkeeper, who dives in an attempt to block it. The stadium erupts in cheers. \\n\\nThe video cuts to Messi running toward his teammates, all wearing the Argentina jersey, and they embrace him in a celebratory hug. The camera pans around to capture the excitement of the moment, before providing a slow-motion shot of the goal from behind the net.\\n\\nThe focus remains on the field. The slow-motion angle highlights the goalkeeper's failed attempt to stop the shot. Messi is still in focus, kicking the ball towards the goal. The video concludes, emphasizing the excitement and triumph of the moment.\", \"audio_transcript\": \"\"}\n",
      "####################################################################################################\n",
      "{\"video_description\": \"Okay, here's a description of the video you provided:\\n\\n**First Scene (0:00-0:10):**\\n\\n*   **Setting:** The video is taken during a football (soccer) match, specifically the FIFA World Cup. We see a large crowd in the background.\\n*   **Players:** Lionel Messi, wearing the Argentina jersey with the number 10, is the main focus. He is surrounded by players from the opposing team, Mexico.\\n*   **Action:**\\n    *   The clip starts with Messi receiving the ball and dribbling between two Mexican players, using quick footwork.\\n    *   A Mexican player attempts to tackle Messi, sliding in close.\\n    *   Messi manages to keep control of the ball and the clip jumps to a close-up shot of Messi shouting in celebration with a wide open mouth, presumably after scoring a goal.\\n\\n**Second Scene (0:11-0:15):**\\n\\n*   **Setting:** This scene is also from a football (soccer) match, specifically Argentina vs Australia. The match is tied with 0 goals each.\\n*   **Players:** Argentine players in white and blue striped jerseys and Australian players in yellow jerseys are battling for control of the ball.\\n*   **Action:**\\n    *   The video opens with Argentine players trying to pass the ball to each other from near the left corner.\\n    *   An Argentine player wearing the number 20 passes the ball to a teammate to his right.\\n    *   The Argentine player tries to shoot the ball into the goal but is intercepted by an Australian player wearing number 23.\\n    *   An Australian player tries to kick the ball away from the goal.\\n    *   An Argentine player kicks the ball near the center of the field away from the goal.\\n\\n**Overall Impression:**\\n\\nThe video shows some highlights from a football match with a focus on Lionel Messi and the intensity of the games, including celebrations and moments of key action.\", \"audio_transcript\": \"\"}\n",
      "####################################################################################################\n"
     ]
    }
   ],
   "source": [
    "content = []\n",
    "for chunk in response.scored_chunks:\n",
    "    print(chunk.text)\n",
    "    print(\"#\"*100)\n",
    "    content.append({\n",
    "        **chunk.document_metadata,\n",
    "        \"text\": chunk.text,\n",
    "        \"document_name\": chunk.document_name,\n",
    "        \"start_time\": chunk.metadata.get(\"start_time\"),\n",
    "        \"end_time\": chunk.metadata.get(\"end_time\")\n",
    "    })"
   ]
  },
  {
   "cell_type": "code",
   "execution_count": 8,
   "id": "5f7918b3",
   "metadata": {},
   "outputs": [
    {
     "data": {
      "text/plain": [
       "{'text': '{\"video_description\": \"Here\\'s a detailed description of the video, focusing on the soccer plays:\\\\n\\\\n**Overall Impression:**\\\\n\\\\nThe video shows two significant moments from a soccer (football) match, likely a high-stakes game given the crowd and the intensity of the play. The first clip features a penalty kick. The second clip shows a close-up play near the goal, ending in a dramatic save.\\\\n\\\\n**Detailed Breakdown:**\\\\n\\\\n*   **Clip 1 (Penalty Kick):**\\\\n\\\\n    *   **Perspective:** The camera is positioned directly behind the goal, providing a clear view of the goalkeeper and the player taking the penalty.\\\\n    *   **Scene:** The stadium is packed with cheering fans, a palpable sense of tension in the air. Both teams are visible on the field. The score is 0-0 between Argentina and France.\\\\n    *   **Action:** The player approaches the ball, takes the shot, and scores the penalty. The goalkeeper dives to his left, but the ball is placed too well. The stadium erupts in celebration, with players and fans rejoicing. Argentina takes the lead: 1-0.\\\\n    *   **Additional elements:** There\\'s advertising visible around the field perimeter, including branding for crypto.com, FIFA, and Budweiser.\\\\n\\\\n*   **Clip 2 (Close-Up Goal Attempt):**\\\\n\\\\n    *   **Perspective:** The camera is positioned at the edge of the field, providing a wider view of the action.\\\\n    *   **Scene:** A dynamic play with both teams fighting for possession of the ball in front of the goal. The score is 2-2 between Argentina and France.\\\\n    *   **Action:** Argentina is attacking. A player takes a shot on the goal, it is saved by the French goalie. Argentina scores!\\\\n\\\\n**General Observations:**\\\\n\\\\n*   The video is high-quality, capturing the intensity of the game well.\\\\n*   The edits focus on critical moments, highlighting the drama of the match.\\\\n*   The crowd adds a significant emotional element.\\\\n*   It\\'s clearly a professionally shot and edited clip, likely intended for highlights or broadcasting.\", \"audio_transcript\": \"\"}',\n",
       " 'document_name': 'messi-goals.mp4',\n",
       " 'start_time': 105.0,\n",
       " 'end_time': 120.0}"
      ]
     },
     "execution_count": 8,
     "metadata": {},
     "output_type": "execute_result"
    }
   ],
   "source": [
    "content[0]"
   ]
  },
  {
   "cell_type": "code",
   "execution_count": null,
   "id": "ffac60f8",
   "metadata": {},
   "outputs": [
    {
     "name": "stdout",
     "output_type": "stream",
     "text": [
      "MoviePy - Building video video/goal_clip.mp4.\n",
      "MoviePy - Writing audio in goal_clipTEMP_MPY_wvf_snd.mp3\n"
     ]
    },
    {
     "name": "stderr",
     "output_type": "stream",
     "text": [
      "                                                                   \r"
     ]
    },
    {
     "name": "stdout",
     "output_type": "stream",
     "text": [
      "MoviePy - Done.\n",
      "MoviePy - Writing video video/goal_clip.mp4\n",
      "\n"
     ]
    },
    {
     "name": "stderr",
     "output_type": "stream",
     "text": [
      "                                                                         \r"
     ]
    },
    {
     "name": "stdout",
     "output_type": "stream",
     "text": [
      "MoviePy - Done !\n",
      "MoviePy - video ready video/goal_clip.mp4\n"
     ]
    }
   ],
   "source": [
    "from moviepy import VideoFileClip\n",
    "\n",
    "video = VideoFileClip(\"video/messi-goals.mp4\")\n",
    "goal_clip = video.subclipped(content[0]['start_time'], content[0]['end_time'])\n",
    "goal_clip.write_videofile(\"video/goal_clip.mp4\")"
   ]
  },
  {
   "cell_type": "code",
   "execution_count": 12,
   "id": "eda1a693",
   "metadata": {},
   "outputs": [
    {
     "data": {
      "text/html": [
       "\n",
       "    <video width=\"640\" height=\"480\" controls>\n",
       "        <source src=\"video\\goal_clip.mp4\" type=\"video/mp4\">\n",
       "        Your browser does not support the video tag.\n",
       "    </video>\n",
       "    "
      ],
      "text/plain": [
       "<IPython.core.display.HTML object>"
      ]
     },
     "metadata": {},
     "output_type": "display_data"
    }
   ],
   "source": [
    "from IPython.display import HTML\n",
    "from pathlib import Path\n",
    "\n",
    "# view the created video chunk\n",
    "video_path = Path('video/goal_clip.mp4')\n",
    "if video_path.exists():\n",
    "    video_html= f'''\n",
    "    <video width=\"640\" height=\"480\" controls>\n",
    "        <source src=\"{video_path}\" type=\"video/mp4\">\n",
    "        Your browser does not support the video tag.\n",
    "    </video>\n",
    "    '''\n",
    "    display(HTML(video_html))\n",
    "else:\n",
    "    print(\"Video nto found\")\n",
    "    "
   ]
  },
  {
   "cell_type": "code",
   "execution_count": null,
   "id": "c040fcbc",
   "metadata": {},
   "outputs": [],
   "source": []
  }
 ],
 "metadata": {
  "kernelspec": {
   "display_name": ".venv",
   "language": "python",
   "name": "python3"
  },
  "language_info": {
   "codemirror_mode": {
    "name": "ipython",
    "version": 3
   },
   "file_extension": ".py",
   "mimetype": "text/x-python",
   "name": "python",
   "nbconvert_exporter": "python",
   "pygments_lexer": "ipython3",
   "version": "3.12.3"
  }
 },
 "nbformat": 4,
 "nbformat_minor": 5
}
